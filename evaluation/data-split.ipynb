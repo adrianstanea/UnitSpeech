{
 "cells": [
  {
   "cell_type": "markdown",
   "metadata": {},
   "source": [
    "# Split evaluation data\n",
    "\n",
    "- From the csv file, group the speakers. Then select 5 speakers for whom we choose 101 samples: 1 is used for finetuning the model and the rest to compute the objective evaluation\n",
    "\n",
    "- Folder structure:\n",
    "    - `data/eval/`: contains the evaluation data\n",
    "        - `finetune/`: contains the finetuning data\n",
    "        - `objective/`: contains the objective evaluation data"
   ]
  },
  {
   "cell_type": "code",
   "execution_count": 13,
   "metadata": {},
   "outputs": [
    {
     "data": {
      "text/plain": [
       "'SWARA'"
      ]
     },
     "execution_count": 13,
     "metadata": {},
     "output_type": "execute_result"
    }
   ],
   "source": [
    "import pandas as pd\n",
    "from sklearn.model_selection import train_test_split\n",
    "import os\n",
    "import seaborn as sns\n",
    "import matplotlib.pyplot as plt\n",
    "\n",
    "from conf.hydra_config import (\n",
    "    MainConfig,\n",
    ")\n",
    "import librosa\n",
    "\n",
    "cfg = MainConfig\n",
    "cfg.dataset.name"
   ]
  },
  {
   "cell_type": "code",
   "execution_count": 14,
   "metadata": {},
   "outputs": [
    {
     "data": {
      "text/plain": [
       "'/workspace/local/evaluation'"
      ]
     },
     "execution_count": 14,
     "metadata": {},
     "output_type": "execute_result"
    }
   ],
   "source": [
    "os.getcwd()"
   ]
  },
  {
   "cell_type": "markdown",
   "metadata": {},
   "source": [
    "- We need to avoid the overlap between speakers from train and those from eval. So we need to select 5 speakers from the csv file that are not in the train set."
   ]
  },
  {
   "cell_type": "code",
   "execution_count": 15,
   "metadata": {},
   "outputs": [
    {
     "name": "stdout",
     "output_type": "stream",
     "text": [
      "18\n"
     ]
    }
   ],
   "source": [
    "SPEAKERS_IN_TRAIN = [1, 2, 7, 10, 11, 14, 15, 19, 20, 22, 28, 30, 31, 33, 34, 35, 36, 39]\n",
    "SPEAKERS_IN_TRAIN_SET = set(SPEAKERS_IN_TRAIN)\n",
    "print(len(SPEAKERS_IN_TRAIN))"
   ]
  },
  {
   "cell_type": "code",
   "execution_count": 16,
   "metadata": {},
   "outputs": [
    {
     "name": "stdout",
     "output_type": "stream",
     "text": [
      "True\n"
     ]
    }
   ],
   "source": [
    "import os\n",
    "# Define the column names\n",
    "column_names = ['path', 'transcript', 'speaker_id']\n",
    "\n",
    "# Load the metadata from the CSV file\n",
    "# metadata_csv_path = 'metadata_SWARA_ALL_2.csv'\n",
    "metadata_csv_path = 'metadata_SWARA1.0_text.csv'\n",
    "\n",
    "\n",
    "path_exists = os.path.exists(metadata_csv_path)\n",
    "print(path_exists)\n",
    "\n",
    "metadata_df = pd.read_csv(metadata_csv_path, \n",
    "                          delimiter=\"|\",\n",
    "                          header=None,\n",
    "                          names=column_names)\n",
    "# Shuffle the metadata\n",
    "metadata_df = metadata_df.sample(frac=1, random_state=42).reset_index(drop=True)"
   ]
  },
  {
   "cell_type": "code",
   "execution_count": 17,
   "metadata": {},
   "outputs": [],
   "source": [
    "# Extract relevant information from the metadata\n",
    "filepaths = metadata_df['path']\n",
    "transcripts = metadata_df['transcript']\n",
    "speaker_ids = metadata_df['speaker_id']"
   ]
  },
  {
   "cell_type": "code",
   "execution_count": 18,
   "metadata": {},
   "outputs": [
    {
     "name": "stdout",
     "output_type": "stream",
     "text": [
      "18\n",
      "18\n"
     ]
    }
   ],
   "source": [
    "ALL_SPEAKERS = sorted(metadata_df['speaker_id'].value_counts().index.tolist())\n",
    "print(len(ALL_SPEAKERS))\n",
    "ALL_SPEAKERS_SET = set(ALL_SPEAKERS)\n",
    "print(len(ALL_SPEAKERS_SET))"
   ]
  },
  {
   "cell_type": "code",
   "execution_count": 19,
   "metadata": {},
   "outputs": [
    {
     "name": "stdout",
     "output_type": "stream",
     "text": [
      "0\n"
     ]
    },
    {
     "data": {
      "text/plain": [
       "[]"
      ]
     },
     "execution_count": 19,
     "metadata": {},
     "output_type": "execute_result"
    }
   ],
   "source": [
    "NEW_SPEAKERS = list(ALL_SPEAKERS_SET - SPEAKERS_IN_TRAIN_SET)\n",
    "print(len(NEW_SPEAKERS))\n",
    "NEW_SPEAKERS"
   ]
  },
  {
   "cell_type": "code",
   "execution_count": 20,
   "metadata": {},
   "outputs": [
    {
     "name": "stdout",
     "output_type": "stream",
     "text": [
      "[]\n"
     ]
    },
    {
     "ename": "ValueError",
     "evalue": "'a' cannot be empty unless no samples are taken",
     "output_type": "error",
     "traceback": [
      "\u001b[0;31m---------------------------------------------------------------------------\u001b[0m",
      "\u001b[0;31mValueError\u001b[0m                                Traceback (most recent call last)",
      "Cell \u001b[0;32mIn[20], line 7\u001b[0m\n\u001b[1;32m      4\u001b[0m NEW_SPEAKERS \u001b[38;5;241m=\u001b[39m np\u001b[38;5;241m.\u001b[39marray(NEW_SPEAKERS)\n\u001b[1;32m      5\u001b[0m \u001b[38;5;28mprint\u001b[39m(NEW_SPEAKERS)\n\u001b[0;32m----> 7\u001b[0m speakers_in_val \u001b[38;5;241m=\u001b[39m \u001b[43mnp\u001b[49m\u001b[38;5;241;43m.\u001b[39;49m\u001b[43mrandom\u001b[49m\u001b[38;5;241;43m.\u001b[39;49m\u001b[43mchoice\u001b[49m\u001b[43m(\u001b[49m\u001b[43mNEW_SPEAKERS\u001b[49m\u001b[43m,\u001b[49m\u001b[43m \u001b[49m\u001b[38;5;241;43m5\u001b[39;49m\u001b[43m,\u001b[49m\u001b[43m \u001b[49m\u001b[43mreplace\u001b[49m\u001b[38;5;241;43m=\u001b[39;49m\u001b[38;5;28;43;01mFalse\u001b[39;49;00m\u001b[43m)\u001b[49m\n\u001b[1;32m      8\u001b[0m \u001b[38;5;28msorted\u001b[39m(speakers_in_val)\n",
      "File \u001b[0;32mmtrand.pyx:934\u001b[0m, in \u001b[0;36mnumpy.random.mtrand.RandomState.choice\u001b[0;34m()\u001b[0m\n",
      "\u001b[0;31mValueError\u001b[0m: 'a' cannot be empty unless no samples are taken"
     ]
    }
   ],
   "source": [
    "# Randomly select 5 speakers for the validation set\n",
    "import numpy as np\n",
    "\n",
    "NEW_SPEAKERS = np.array(NEW_SPEAKERS)\n",
    "print(NEW_SPEAKERS)\n",
    "\n",
    "speakers_in_val = np.random.choice(NEW_SPEAKERS, 5, replace=False)\n",
    "sorted(speakers_in_val)"
   ]
  },
  {
   "cell_type": "markdown",
   "metadata": {},
   "source": [
    "- For each speaker in the evaluation set, randomly extract 101 samples from the original dataframe."
   ]
  },
  {
   "cell_type": "code",
   "execution_count": null,
   "metadata": {},
   "outputs": [],
   "source": [
    "speakers_in_val = []"
   ]
  },
  {
   "cell_type": "code",
   "execution_count": 11,
   "metadata": {},
   "outputs": [
    {
     "ename": "NameError",
     "evalue": "name 'speakers_in_val' is not defined",
     "output_type": "error",
     "traceback": [
      "\u001b[0;31m---------------------------------------------------------------------------\u001b[0m",
      "\u001b[0;31mNameError\u001b[0m                                 Traceback (most recent call last)",
      "Cell \u001b[0;32mIn[11], line 1\u001b[0m\n\u001b[0;32m----> 1\u001b[0m evaluation_samples \u001b[38;5;241m=\u001b[39m metadata_df[metadata_df[\u001b[38;5;124m'\u001b[39m\u001b[38;5;124mspeaker_id\u001b[39m\u001b[38;5;124m'\u001b[39m]\u001b[38;5;241m.\u001b[39misin(\u001b[43mspeakers_in_val\u001b[49m)]\n",
      "\u001b[0;31mNameError\u001b[0m: name 'speakers_in_val' is not defined"
     ]
    }
   ],
   "source": [
    "evaluation_samples = metadata_df[metadata_df['speaker_id'].isin(speakers_in_val)]"
   ]
  },
  {
   "cell_type": "code",
   "execution_count": 13,
   "metadata": {},
   "outputs": [
    {
     "data": {
      "text/plain": [
       "[0, 13, 24, 29, 40]"
      ]
     },
     "execution_count": 13,
     "metadata": {},
     "output_type": "execute_result"
    }
   ],
   "source": [
    "sorted(evaluation_samples[\"speaker_id\"].value_counts().index.tolist())"
   ]
  },
  {
   "cell_type": "code",
   "execution_count": 13,
   "metadata": {},
   "outputs": [
    {
     "data": {
      "image/png": "[encoded data removed]",
      "text/plain": [
       "<Figure size 1000x600 with 1 Axes>"
      ]
     },
     "metadata": {},
     "output_type": "display_data"
    }
   ],
   "source": [
    "# Get 101 random samples for each speaker\n",
    "evaluation_samples = evaluation_samples.groupby('speaker_id').head(101)\n",
    "\n",
    "# Visualize the distribution of speakers in the evaluation set\n",
    "plt.figure(figsize=(10, 6))\n",
    "sns.countplot(data=evaluation_samples, x=\"speaker_id\", order=evaluation_samples[\"speaker_id\"].value_counts().index)\n",
    "plt.title('Evaluation Set Speaker Distribution')\n",
    "plt.xlabel('Speaker ID')\n",
    "plt.ylabel('Number of Samples')\n",
    "plt.xticks(rotation=90)\n",
    "plt.show()"
   ]
  },
  {
   "cell_type": "code",
   "execution_count": 30,
   "metadata": {},
   "outputs": [
    {
     "data": {
      "text/html": [
       "<div>\n",
       "<style scoped>\n",
       "    .dataframe tbody tr th:only-of-type {\n",
       "        vertical-align: middle;\n",
       "    }\n",
       "\n",
       "    .dataframe tbody tr th {\n",
       "        vertical-align: top;\n",
       "    }\n",
       "\n",
       "    .dataframe thead th {\n",
       "        text-align: right;\n",
       "    }\n",
       "</style>\n",
       "<table border=\"1\" class=\"dataframe\">\n",
       "  <thead>\n",
       "    <tr style=\"text-align: right;\">\n",
       "      <th></th>\n",
       "      <th>path</th>\n",
       "      <th>transcript</th>\n",
       "      <th>speaker_id</th>\n",
       "    </tr>\n",
       "  </thead>\n",
       "  <tbody>\n",
       "    <tr>\n",
       "      <th>1</th>\n",
       "      <td>/media/DATA/CORPORA/SWARA2.0/SWARA2.0_22k/bal_...</td>\n",
       "      <td>Vâlcea nu a avut deloc parte de un meci liniștit.</td>\n",
       "      <td>0</td>\n",
       "    </tr>\n",
       "    <tr>\n",
       "      <th>17</th>\n",
       "      <td>/media/DATA/CORPORA/SWARA2.0/SWARA2.0_22k/bal_...</td>\n",
       "      <td>Declară viceprimarul Cornel Ionică.</td>\n",
       "      <td>0</td>\n",
       "    </tr>\n",
       "    <tr>\n",
       "      <th>25</th>\n",
       "      <td>/media/DATA/CORPORA/SWARA2.0/SWARA2.0_22k/ccl_...</td>\n",
       "      <td>Dar, de la o vreme încoace, cam de pe când ția...</td>\n",
       "      <td>8</td>\n",
       "    </tr>\n",
       "    <tr>\n",
       "      <th>27</th>\n",
       "      <td>/media/DATA/CORPORA/SWARA2.0/SWARA2.0_22k/bvl_...</td>\n",
       "      <td>Femeia este acuzată de săvârșirea infracțiunil...</td>\n",
       "      <td>6</td>\n",
       "    </tr>\n",
       "    <tr>\n",
       "      <th>30</th>\n",
       "      <td>/media/DATA/CORPORA/SWARA2.0/SWARA2.0_22k/bvl_...</td>\n",
       "      <td>Și mi-a plăcut foarte tare.</td>\n",
       "      <td>6</td>\n",
       "    </tr>\n",
       "    <tr>\n",
       "      <th>...</th>\n",
       "      <td>...</td>\n",
       "      <td>...</td>\n",
       "      <td>...</td>\n",
       "    </tr>\n",
       "    <tr>\n",
       "      <th>4213</th>\n",
       "      <td>/media/DATA/CORPORA/SWARA2.0/SWARA2.0_22k/mrl_...</td>\n",
       "      <td>Toți elevii de la Lombardo Radice vorbesc flue...</td>\n",
       "      <td>24</td>\n",
       "    </tr>\n",
       "    <tr>\n",
       "      <th>4297</th>\n",
       "      <td>/media/DATA/CORPORA/SWARA2.0/SWARA2.0_22k/mrl_...</td>\n",
       "      <td>Vom discuta în consiliul de administrație pent...</td>\n",
       "      <td>24</td>\n",
       "    </tr>\n",
       "    <tr>\n",
       "      <th>4319</th>\n",
       "      <td>/media/DATA/CORPORA/SWARA2.0/SWARA2.0_22k/mrl_...</td>\n",
       "      <td>Trebuie să practicăm un joc foarte bun și să f...</td>\n",
       "      <td>24</td>\n",
       "    </tr>\n",
       "    <tr>\n",
       "      <th>4533</th>\n",
       "      <td>/media/DATA/CORPORA/SWARA2.0/SWARA2.0_22k/mrl_...</td>\n",
       "      <td>Raportat la tehnica procesului tehnologic, pro...</td>\n",
       "      <td>24</td>\n",
       "    </tr>\n",
       "    <tr>\n",
       "      <th>4579</th>\n",
       "      <td>/media/DATA/CORPORA/SWARA2.0/SWARA2.0_22k/mrl_...</td>\n",
       "      <td>Dar cine ești tu, zise Ivan cam zborșit, de te...</td>\n",
       "      <td>24</td>\n",
       "    </tr>\n",
       "  </tbody>\n",
       "</table>\n",
       "<p>505 rows × 3 columns</p>\n",
       "</div>"
      ],
      "text/plain": [
       "                                                   path  \\\n",
       "1     /media/DATA/CORPORA/SWARA2.0/SWARA2.0_22k/bal_...   \n",
       "17    /media/DATA/CORPORA/SWARA2.0/SWARA2.0_22k/bal_...   \n",
       "25    /media/DATA/CORPORA/SWARA2.0/SWARA2.0_22k/ccl_...   \n",
       "27    /media/DATA/CORPORA/SWARA2.0/SWARA2.0_22k/bvl_...   \n",
       "30    /media/DATA/CORPORA/SWARA2.0/SWARA2.0_22k/bvl_...   \n",
       "...                                                 ...   \n",
       "4213  /media/DATA/CORPORA/SWARA2.0/SWARA2.0_22k/mrl_...   \n",
       "4297  /media/DATA/CORPORA/SWARA2.0/SWARA2.0_22k/mrl_...   \n",
       "4319  /media/DATA/CORPORA/SWARA2.0/SWARA2.0_22k/mrl_...   \n",
       "4533  /media/DATA/CORPORA/SWARA2.0/SWARA2.0_22k/mrl_...   \n",
       "4579  /media/DATA/CORPORA/SWARA2.0/SWARA2.0_22k/mrl_...   \n",
       "\n",
       "                                             transcript  speaker_id  \n",
       "1     Vâlcea nu a avut deloc parte de un meci liniștit.           0  \n",
       "17                  Declară viceprimarul Cornel Ionică.           0  \n",
       "25    Dar, de la o vreme încoace, cam de pe când ția...           8  \n",
       "27    Femeia este acuzată de săvârșirea infracțiunil...           6  \n",
       "30                          Și mi-a plăcut foarte tare.           6  \n",
       "...                                                 ...         ...  \n",
       "4213  Toți elevii de la Lombardo Radice vorbesc flue...          24  \n",
       "4297  Vom discuta în consiliul de administrație pent...          24  \n",
       "4319  Trebuie să practicăm un joc foarte bun și să f...          24  \n",
       "4533  Raportat la tehnica procesului tehnologic, pro...          24  \n",
       "4579  Dar cine ești tu, zise Ivan cam zborșit, de te...          24  \n",
       "\n",
       "[505 rows x 3 columns]"
      ]
     },
     "execution_count": 30,
     "metadata": {},
     "output_type": "execute_result"
    }
   ],
   "source": [
    "evaluation_samples"
   ]
  },
  {
   "cell_type": "code",
   "execution_count": 31,
   "metadata": {},
   "outputs": [],
   "source": [
    "# Sort the evaluation samples by speaker ID\n",
    "evaluation_samples = evaluation_samples.sort_values(by='speaker_id')"
   ]
  },
  {
   "cell_type": "code",
   "execution_count": 32,
   "metadata": {},
   "outputs": [],
   "source": [
    "# Save the current evaluation set to a CSV file using the same structure as the DataLoader\n",
    "evaluation_samples.to_csv('evaluation.csv', index=False, sep=\"|\", header=False)"
   ]
  },
  {
   "cell_type": "code",
   "execution_count": 33,
   "metadata": {},
   "outputs": [
    {
     "data": {
      "text/plain": [
       "speaker_id  path                                                        transcript                                                                        \n",
       "0           /media/DATA/CORPORA/SWARA2.0/SWARA2.0_22k/bal_rnd1_466.wav  Vâlcea nu a avut deloc parte de un meci liniștit.                                     1\n",
       "6           /media/DATA/CORPORA/SWARA2.0/SWARA2.0_22k/bvl_rnd2_232.wav  O să vedem dacă dau afară pe cineva sau nu.                                           1\n",
       "8           /media/DATA/CORPORA/SWARA2.0/SWARA2.0_22k/ccl_ivan_280.wav  Mia luat el Dumnezeu turbinca din pricina ta, dar încaltea țiam făcuto bună și eu.    1\n",
       "24          /media/DATA/CORPORA/SWARA2.0/SWARA2.0_22k/mrl_rnd2_408.wav  Guvernul britanic a comandat șaizeci de milioane de doze.                             1\n",
       "37          /media/DATA/CORPORA/SWARA2.0/SWARA2.0_22k/smm_rnd2_037.wav  După o vară plină de tensiune, învățământul românesc trece într-o altă etapă.         1\n",
       "Name: count, dtype: int64"
      ]
     },
     "execution_count": 33,
     "metadata": {},
     "output_type": "execute_result"
    }
   ],
   "source": [
    "# Extract the first occurance of each speaker in the evaluation set into a separate DataFrame\n",
    "reference_speech_samples = evaluation_samples.groupby('speaker_id').first().reset_index()\n",
    "reference_speech_samples.value_counts()"
   ]
  },
  {
   "cell_type": "markdown",
   "metadata": {},
   "source": [
    "- Manually extract the above speakers from the csv file "
   ]
  },
  {
   "cell_type": "code",
   "execution_count": 34,
   "metadata": {},
   "outputs": [
    {
     "name": "stdout",
     "output_type": "stream",
     "text": [
      "speaker_id\n",
      "0     101\n",
      "6     101\n",
      "8     101\n",
      "24    101\n",
      "37    101\n",
      "Name: count, dtype: int64\n"
     ]
    },
    {
     "data": {
      "image/png": "[encoded data removed]",
      "text/plain": [
       "<Figure size 1000x600 with 1 Axes>"
      ]
     },
     "metadata": {},
     "output_type": "display_data"
    }
   ],
   "source": [
    "# Visualize the distribution of speakers in the evaluation set\n",
    "print(evaluation_samples[\"speaker_id\"].value_counts())\n",
    "plt.figure(figsize=(10, 6))\n",
    "sns.countplot(data=evaluation_samples, x=\"speaker_id\", order=evaluation_samples[\"speaker_id\"].value_counts().index)\n",
    "plt.title('Evaluation Set Speaker Distribution')\n",
    "plt.xlabel('Speaker ID')\n",
    "plt.ylabel('Number of Samples')\n",
    "plt.xticks(rotation=90)\n",
    "plt.show()"
   ]
  },
  {
   "cell_type": "markdown",
   "metadata": {},
   "source": [
    "# Visualize after manually extracting samples"
   ]
  },
  {
   "cell_type": "code",
   "execution_count": 31,
   "metadata": {},
   "outputs": [
    {
     "name": "stdout",
     "output_type": "stream",
     "text": [
      "speaker_id\n",
      "0     100\n",
      "6     100\n",
      "8     100\n",
      "24    100\n",
      "37    100\n",
      "Name: count, dtype: int64\n"
     ]
    },
    {
     "data": {
      "image/png": "[encoded data removed]",
      "text/plain": [
       "<Figure size 1000x600 with 1 Axes>"
      ]
     },
     "metadata": {},
     "output_type": "display_data"
    }
   ],
   "source": [
    "eval_samples = pd.read_csv('evaluation.csv', delimiter=\"|\", header=None, names=column_names)\n",
    "\n",
    "# Assuming speaker_gender_dict is your dictionary mapping speaker IDs to genders\n",
    "speaker_gender_dict = {0: 'M', 6: 'M', 8: 'F', 24: 'F', 37: 'F'}\n",
    "\n",
    "# Create a new column 'gender' in the DataFrame\n",
    "eval_samples['Gender'] = eval_samples['speaker_id'].map(speaker_gender_dict)\n",
    "\n",
    "# Visualize the distribution of speakers in the evaluation set\n",
    "print(eval_samples[\"speaker_id\"].value_counts())\n",
    "plt.figure(figsize=(10, 6))\n",
    "sns.countplot(data=eval_samples, x=\"speaker_id\", hue='Gender', order=eval_samples[\"speaker_id\"].value_counts().index)\n",
    "plt.title('Evaluation Set Speaker Distribution')\n",
    "plt.xlabel('Speaker ID')\n",
    "plt.ylabel('Number of Samples')\n",
    "plt.xticks(rotation=90)\n",
    "plt.show()"
   ]
  },
  {
   "cell_type": "code",
   "execution_count": null,
   "metadata": {},
   "outputs": [],
   "source": []
  },
  {
   "cell_type": "code",
   "execution_count": 26,
   "metadata": {},
   "outputs": [
    {
     "name": "stdout",
     "output_type": "stream",
     "text": [
      "                                                path  \\\n",
      "0  /media/DATA/CORPORA/SWARA2.0/SWARA2.0_22k/bal_...   \n",
      "1  /media/DATA/CORPORA/SWARA2.0/SWARA2.0_22k/bvl_...   \n",
      "2  /media/DATA/CORPORA/SWARA2.0/SWARA2.0_22k/ccl_...   \n",
      "3  /media/DATA/CORPORA/SWARA2.0/SWARA2.0_22k/mrl_...   \n",
      "4  /media/DATA/CORPORA/SWARA2.0/SWARA2.0_22k/smm_...   \n",
      "\n",
      "                                          transcript  speaker_id gender  \n",
      "0  Vâlcea nu a avut deloc parte de un meci liniștit.           0      M  \n",
      "1        O să vedem dacă dau afară pe cineva sau nu.           6      M  \n",
      "2  Mia luat el Dumnezeu turbinca din pricina ta, ...           8      F  \n",
      "3  Guvernul britanic a comandat șaizeci de milioa...          24      F  \n",
      "4  După o vară plină de tensiune, învățământul ro...          37      F  \n",
      "speaker_id\n",
      "0     1\n",
      "6     1\n",
      "8     1\n",
      "24    1\n",
      "37    1\n",
      "Name: count, dtype: int64\n"
     ]
    },
    {
     "data": {
      "image/png": "[encoded data removed]",
      "text/plain": [
       "<Figure size 1000x600 with 1 Axes>"
      ]
     },
     "metadata": {},
     "output_type": "display_data"
    }
   ],
   "source": [
    "finetune_samples = pd.read_csv('reference_speech_samples.csv', delimiter=\"|\", header=None, names=column_names)\n",
    "\n",
    "speaker_info = {\n",
    "    \"speaker_id\": finetune_samples[\"speaker_id\"].values,\n",
    "    \"gender\": ['M', 'M', 'F', 'F', 'F']\n",
    "}\n",
    "speaker_info = pd.DataFrame(speaker_info)\n",
    "finetune_samples = finetune_samples.merge(speaker_info, on='speaker_id')\n",
    "print(finetune_samples)\n",
    "\n",
    "\n",
    "# Visualize the distribution of speakers in the evaluation set\n",
    "print(finetune_samples[\"speaker_id\"].value_counts())\n",
    "plt.figure(figsize=(10, 6))\n",
    "sns.countplot(data=finetune_samples, x=\"speaker_id\", hue=\"gender\", order=finetune_samples[\"speaker_id\"].value_counts().index)\n",
    "plt.title('Evaluation Set Speaker Distribution')\n",
    "plt.xlabel('Speaker ID')\n",
    "plt.ylabel('Number of Samples')\n",
    "# plt.xticks(rotation=90)\n",
    "plt.show()"
   ]
  },
  {
   "cell_type": "code",
   "execution_count": null,
   "metadata": {},
   "outputs": [],
   "source": []
  }
 ],
 "metadata": {
  "kernelspec": {
   "display_name": "unitspeech_3.8",
   "language": "python",
   "name": "python3"
  },
  "language_info": {
   "codemirror_mode": {
    "name": "ipython",
    "version": 3
   },
   "file_extension": ".py",
   "mimetype": "text/x-python",
   "name": "python",
   "nbconvert_exporter": "python",
   "pygments_lexer": "ipython3",
   "version": "3.8.19"
  }
 },
 "nbformat": 4,
 "nbformat_minor": 2
}
