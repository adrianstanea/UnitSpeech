{
 "cells": [
  {
   "cell_type": "code",
   "execution_count": 1,
   "metadata": {},
   "outputs": [
    {
     "name": "stderr",
     "output_type": "stream",
     "text": [
      "/root/miniconda3/envs/unitspeech_3.8/lib/python3.8/site-packages/tqdm/auto.py:21: TqdmWarning: IProgress not found. Please update jupyter and ipywidgets. See https://ipywidgets.readthedocs.io/en/stable/user_install.html\n",
      "  from .autonotebook import tqdm as notebook_tqdm\n"
     ]
    }
   ],
   "source": [
    "import argparse\n",
    "import IPython.display as ipd\n",
    "import json\n",
    "import librosa\n",
    "import os\n",
    "\n",
    "# To prevent the path from becoming corrupted when this cell is executed more than once.\n",
    "try:\n",
    "    path\n",
    "except:\n",
    "    path = \"../\"\n",
    "    os.chdir(path)\n",
    "    \n",
    "import phonemizer\n",
    "import random\n",
    "from scipy.io.wavfile import write\n",
    "import torch\n",
    "import torchaudio\n",
    "from tqdm import tqdm\n",
    "from transformers import HubertModel\n",
    "\n",
    "from unitspeech.unitspeech import UnitSpeech\n",
    "from unitspeech.duration_predictor import DurationPredictor\n",
    "from unitspeech.encoder import Encoder\n",
    "from unitspeech.speaker_encoder.ecapa_tdnn import ECAPA_TDNN_SMALL\n",
    "from unitspeech.text import cleaned_text_to_sequence, phonemize, symbols\n",
    "from unitspeech.textlesslib.textless.data.speech_encoder import SpeechEncoder\n",
    "from unitspeech.util import HParams, fix_len_compatibility, intersperse, process_unit, generate_path, sequence_mask\n",
    "from unitspeech.vocoder.env import AttrDict\n",
    "from unitspeech.vocoder.meldataset import mel_spectrogram\n",
    "from unitspeech.vocoder.models import BigVGAN\n",
    "\n",
    "from conf.hydra_config import (\n",
    "    MainConfig,\n",
    ")\n",
    "import pandas as pd\n",
    "import numpy as np\n",
    "\n",
    "import soundfile as sf\n",
    "\n",
    "from unitspeech.util import (\n",
    "    fix_len_compatibility,\n",
    "    save_plot,\n",
    "    sequence_mask,\n",
    ")"
   ]
  },
  {
   "cell_type": "code",
   "execution_count": 2,
   "metadata": {},
   "outputs": [
    {
     "name": "stdout",
     "output_type": "stream",
     "text": [
      "Running from /workspace/local\n",
      "Device: cuda\n"
     ]
    }
   ],
   "source": [
    "cfg = MainConfig\n",
    "device = torch.device(\"cuda\" if torch.cuda.is_available() and cfg.train.on_GPU else \"cpu\")\n",
    "\n",
    "print(f\"Running from {os.getcwd()}\")\n",
    "print(f\"Device: {device}\")"
   ]
  },
  {
   "cell_type": "code",
   "execution_count": 3,
   "metadata": {},
   "outputs": [
    {
     "data": {
      "text/plain": [
       "path                                                     transcript                                                                           speaker_id\n",
       "/outputs/evaluation/with-finetune_AWGN/bal_ivan_026.wav  Mulțumesc dumneavoastră, zise Ivan, tresărind.                                       0             1\n",
       "/outputs/evaluation/with-finetune_AWGN/mrl_rnd1_221.wav  La fiecare zgomot tresăream, de câte ori auzeam sirene mă ascundeam.                 24            1\n",
       "/outputs/evaluation/with-finetune_AWGN/mrl_rnd2_044.wav  În acest caz, nu se poate spune de o schimbare.                                      24            1\n",
       "/outputs/evaluation/with-finetune_AWGN/mrl_rnd2_031.wav  Apă otrăvită, după cum veți vedea în cele ce urmează.                                24            1\n",
       "/outputs/evaluation/with-finetune_AWGN/mrl_rnd1_493.wav  Nu a murit, dar a rămas mutilată și asta m-a marcat.                                 24            1\n",
       "                                                                                                                                                           ..\n",
       "/outputs/evaluation/with-finetune_AWGN/bvl_rnd2_411.wav  Regia este semnată de maestrul Cezar Ghioca.                                         6             1\n",
       "/outputs/evaluation/with-finetune_AWGN/bvl_rnd2_406.wav  Înmormântarea artistului va avea loc sâmbătă, la Eforie Sud, localitatea sa natală.  6             1\n",
       "/outputs/evaluation/with-finetune_AWGN/bvl_rnd2_382.wav  Ce drum ai dori să urmezi în viață.                                                  6             1\n",
       "/outputs/evaluation/with-finetune_AWGN/bvl_rnd2_290.wav  Dacă reapar showurile de profil, înseamnă că publicul le cere.                       6             1\n",
       "/outputs/evaluation/with-finetune_AWGN/smm_rnd3_497.wav  Le-a crescut tatăl, invalid de război, și mătușa Paraschiva.                         37            1\n",
       "Name: count, Length: 500, dtype: int64"
      ]
     },
     "execution_count": 3,
     "metadata": {},
     "output_type": "execute_result"
    }
   ],
   "source": [
    "column_names = ['path', 'transcript', 'speaker_id']\n",
    "reference_speech_samples = pd.read_csv('evaluation/synthesized_audio_AWGN.csv', delimiter=\"|\", header=None, names=column_names)\n",
    "reference_speech_samples.value_counts()"
   ]
  },
  {
   "cell_type": "code",
   "execution_count": 7,
   "metadata": {},
   "outputs": [],
   "source": [
    "def sv56_normalize(audio, sr, target_level=-26.0):\n",
    "    # Placeholder function for the actual SV56 algorithm\n",
    "    # Compute the current level\n",
    "    rms = np.sqrt(np.mean(audio**2))\n",
    "    current_level = 20 * np.log10(rms)\n",
    "    \n",
    "    # Compute the gain required to achieve the target level\n",
    "    gain_db = target_level - current_level\n",
    "    gain = 10**(gain_db / 20)\n",
    "    \n",
    "    # Apply gain to normalize the audio\n",
    "    normalized_audio = audio * gain\n",
    "    return normalized_audio\n",
    "\n",
    "# Iterate over each row in the dataframe\n",
    "for index, row in reference_speech_samples.iterrows():\n",
    "    # Load the audio file\n",
    "    path = row['path']\n",
    "    audio, sr = librosa.load(path, sr=16_000)\n",
    "    # Play the audio file\n",
    "\n",
    "    # Get parent directory \n",
    "    parent_dir = os.path.dirname(path)\n",
    "    parent_dir = parent_dir + \"_16K\"\n",
    "\n",
    "    os.makedirs(parent_dir, exist_ok=True)\n",
    "\n",
    "    # Get file name\n",
    "    file_name = os.path.basename(path)\n",
    "\n",
    "    # Normalize the audio using the SV56 algorithm\n",
    "    normalized_audio = sv56_normalize(audio, sr)\n",
    "    \n",
    "    new_path = os.path.join(parent_dir, file_name)\n",
    "    write(new_path, 16_000, audio)"
   ]
  },
  {
   "cell_type": "code",
   "execution_count": null,
   "metadata": {},
   "outputs": [],
   "source": []
  }
 ],
 "metadata": {
  "kernelspec": {
   "display_name": "unitspeech_3.8",
   "language": "python",
   "name": "python3"
  },
  "language_info": {
   "codemirror_mode": {
    "name": "ipython",
    "version": 3
   },
   "file_extension": ".py",
   "mimetype": "text/x-python",
   "name": "python",
   "nbconvert_exporter": "python",
   "pygments_lexer": "ipython3",
   "version": "3.8.19"
  }
 },
 "nbformat": 4,
 "nbformat_minor": 2
}
